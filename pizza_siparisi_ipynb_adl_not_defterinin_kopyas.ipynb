{
  "nbformat": 4,
  "nbformat_minor": 0,
  "metadata": {
    "colab": {
      "provenance": [],
      "authorship_tag": "ABX9TyN5HaITE4rlWJhAAA02vym/",
      "include_colab_link": true
    },
    "kernelspec": {
      "name": "python3",
      "display_name": "Python 3"
    },
    "language_info": {
      "name": "python"
    }
  },
  "cells": [
    {
      "cell_type": "markdown",
      "metadata": {
        "id": "view-in-github",
        "colab_type": "text"
      },
      "source": [
        "<a href=\"https://colab.research.google.com/github/sedaakurenboztas/proje/blob/main/pizza_siparisi_ipynb_adl_not_defterinin_kopyas.ipynb\" target=\"_parent\"><img src=\"https://colab.research.google.com/assets/colab-badge.svg\" alt=\"Open In Colab\"/></a>"
      ]
    },
    {
      "cell_type": "code",
      "execution_count": null,
      "metadata": {
        "id": "FV_Bog08Q-4c"
      },
      "outputs": [],
      "source": [
        "# kütüphane ekl\n",
        "import csv\n",
        "import datetime\n",
        "import sqlite3 "
      ]
    },
    {
      "cell_type": "code",
      "source": [
        "def acilis ( ):\n",
        "  print(\"Pizza Heraya Hoşgeldiniz \")"
      ],
      "metadata": {
        "id": "JRQP8yToRJ17"
      },
      "execution_count": null,
      "outputs": []
    },
    {
      "cell_type": "code",
      "source": [
        "# menu için dosya açma,ve class tanımlama  Bazı kısımlarda hata alıyorum . Hatamının çözümünü halledemedim phthon hakkında pek fazla bilgim yok elimden \n",
        "#  geldiği kadar halletmeye çalıştım\n",
        "\n",
        "def display_menu():\n",
        "  with open('Menu.txt', 'r') as f:\n",
        "       print(f.read())\n",
        "      \n",
        "def main ():\n",
        "  class pizza: # sınıf tanımlaması \n",
        "     def __init__(self):\n",
        "       self.adi=\"pizzastar\"              \n",
        "       self.fiyat =0.0\n",
        "     def pizza_adi(self):\n",
        "       return self.adi\n",
        "     def pizza_fiyatı(self):\n",
        "       return self.adi\n",
        "  class Klasik_pizza(pizza):\n",
        "     def __init__(self):\n",
        "       self.adi=\"Klasik_pizza\"\n",
        "       self.fiyat=50.0\n",
        "  class Margarita_pizza(pizza):\n",
        "    def __init__(self) :\n",
        "      self.adi=\"Margarita_pizza\"\n",
        "      self.fiyat=45.50\n",
        "  class Turk_pizza(pizza):\n",
        "    def __init__(self):\n",
        "      self.adi=\"Turk_pizza\" \n",
        "      self.fiyat=37.80\n",
        "  class Sade_pizza(pizza) :\n",
        "    def __init__(self):\n",
        "      self.adi=\"Sade_pizza\"\n",
        "      self.fiyat= 78.0\n",
        "      #pizzaya mazeme eklemek için dekotatör sınıf ekleme \n",
        "  class Decorator(pizza):\n",
        "      def __init__(self,componet):\n",
        "          self.componet= componet\n",
        "      def get_cost(self):\n",
        "        return self.componet.get_cost()+pizza.get_cost()\n",
        "      def get_description(self):\n",
        "        return self.componet.get_description()+' ' +pizza.get_description(self) \n",
        "  class zeytin (Decorator):\n",
        "    def __init__(self,componet):\n",
        "      self.componet=componet\n",
        "      self.adi=\"zeytin\"\n",
        "      self.fiyat=3.0\n",
        "  class Mantarlar(Decorator):\n",
        "    def __init(self,componet):\n",
        "      self.componet=componet\n",
        "      self.adi=\"Mantarlar\"\n",
        "      self.fiyat=4.5 \n",
        "  class Keci_peyniri(Decorator):\n",
        "    def __init(self,componet):\n",
        "      self.componet=componet\n",
        "      self.adi=\"Keçi_peyniri\"\n",
        "      self.fiyat=8.5\n",
        "  class Et(Decorator) :\n",
        "    def __init__(self,componet):\n",
        "      self.componet=componet\n",
        "      self.adi=\"Et\"\n",
        "      self.fiyat=12.5\n",
        "  class Sogan(Decorator) :\n",
        "    def __init__(self,componet):\n",
        "      self.componet=componet\n",
        "      self.adi=\"Sogan\"\n",
        "      self.fiyat=12.5\n",
        "  display_menu()\n",
        "toplamucret=0\n",
        "while True: \n",
        "    pizza_secimi=input(\"Lütfen istediğiniz pizzanın numarasını seçiniz:\")\n",
        "    adet=int(input(\"Kaç adet isitiyorsunuz :)\"))\n",
        "     \n",
        "    if pizza_secimi == \"1\" : # fiyatlnadırma \n",
        "      toplamucret += adet* 25\n",
        "    elif pizza_secimi == \"2\":\n",
        "      toplamucret += adet*30\n",
        "    elif pizza_secimi == \"3\":\n",
        "      toplamucret += adet* 23\n",
        "    elif pizza_secimi == \"4\":\n",
        "      toplamucret += adet* 50\n",
        "    sor=input(\"Pizaalar bölümünden başka bir şey ister misiniz ?(Evet/Hayır) :\")\n",
        "    if sor == \" Hayır\":\n",
        "      print(\":(\")\n",
        "    sos_secimi=input(\"Lütfen istediğiniz sosun/sosların numarasını seçiniz:\")  \n",
        "    adet = int(input(\"Kaç adet istiyorsunuz ?:\"))\n",
        "    if sos_secimi  == \"1.1\"  :\n",
        "      toplamucret += adet* 7\n",
        "    elif sos_secimi == \"1.2\":\n",
        "      toplamucret += adet* 5\n",
        "    elif sos_secimi == \"1.3\": \n",
        "     toplamucret += adet* 9\n",
        "    elif sos_secimi == \"1.4\" :\n",
        "      toplamucret+= adet*4\n",
        "    elif sos_secimi == \"1.5\":\n",
        "      toplamucret += adet* 6\n",
        "    elif sos_secimi== \"1.6\": \n",
        "      toplamucret += adet* 7 \n",
        "    sor=input(\"Soslar bölümünden başka bir şey ister misiniz ? (evet/hayır)\")\n",
        "    if sor == \"Hayır\":\n",
        "      print(\"toplam ücret: \",toplamucret,\"₺\")\n",
        "      print(\"Bizi seçtiğiniz için teşşekür ederiz. Yeniden bekleriz . Güle güle\")\n",
        "    break   \n",
        "toplamucret=sos_secimi.get_cost()\n",
        "print(toplamucret)\n",
        "                            "
      ],
      "metadata": {
        "id": "R39n46n_RXHg"
      },
      "execution_count": null,
      "outputs": []
    },
    {
      "cell_type": "code",
      "source": [
        "# veri tabanı denemesi \n",
        "con = sqlite3.connect(\"order_database.csv\")\n",
        "cursor = con.cursor() \n",
        "\n",
        "def tablo_oluştur():\n",
        "    cursor.execute(\"CREATE TABLE IF NOT EXISTS musteri (isim TEXT, kimlik INT, kredi_karti INT , siparis_aciklamasi TEXT)\") \n",
        "    con.commit()\n",
        "tablo_oluştur()\n",
        "con.close\n",
        "def deger_ekle(isim,kimlik,kredi_karti,siparis_aciklamasi):\n",
        "    cursor.execute(\"INSERT INTO musteri VALUES(?,?,?,?)\",(isim,kimlik,kredi_karti,siparis_aciklamasi))\n",
        "    con.commit()\n",
        "isim =input(\"isim:\")\n",
        "kimlik = int(input(\"kimlik:\"))\n",
        "kredi_karti = int(input(\"kredi_karti:\"))\n",
        "siparis_aciklamasi= input(\"siparis_aciklamasi:\")\n",
        "\n",
        "\n",
        "deger_ekle (isim,kimlik,kredi_karti,siparis_aciklamasi)\n",
        "\n",
        "con.close()\n",
        "\n",
        "\n",
        "                             \n",
        "\n",
        "\n",
        "\n",
        "\n",
        "\n",
        "\n",
        "    \n",
        "  "
      ],
      "metadata": {
        "id": "pBsvgKaHoa51",
        "colab": {
          "base_uri": "https://localhost:8080/",
          "height": 380
        },
        "outputId": "585dfbec-0558-42dd-a4a3-305625f9c8a1"
      },
      "execution_count": null,
      "outputs": [
        {
          "output_type": "error",
          "ename": "KeyboardInterrupt",
          "evalue": "ignored",
          "traceback": [
            "\u001b[0;31m---------------------------------------------------------------------------\u001b[0m",
            "\u001b[0;31mKeyboardInterrupt\u001b[0m                         Traceback (most recent call last)",
            "\u001b[0;32m<ipython-input-4-8d5dcea46b62>\u001b[0m in \u001b[0;36m<module>\u001b[0;34m\u001b[0m\n\u001b[1;32m     11\u001b[0m     \u001b[0mcursor\u001b[0m\u001b[0;34m.\u001b[0m\u001b[0mexecute\u001b[0m\u001b[0;34m(\u001b[0m\u001b[0;34m\"INSERT INTO musteri VALUES(?,?,?,?)\"\u001b[0m\u001b[0;34m,\u001b[0m\u001b[0;34m(\u001b[0m\u001b[0misim\u001b[0m\u001b[0;34m,\u001b[0m\u001b[0mkimlik\u001b[0m\u001b[0;34m,\u001b[0m\u001b[0mkredi_karti\u001b[0m\u001b[0;34m,\u001b[0m\u001b[0msiparis_aciklamasi\u001b[0m\u001b[0;34m)\u001b[0m\u001b[0;34m)\u001b[0m\u001b[0;34m\u001b[0m\u001b[0;34m\u001b[0m\u001b[0m\n\u001b[1;32m     12\u001b[0m     \u001b[0mcon\u001b[0m\u001b[0;34m.\u001b[0m\u001b[0mcommit\u001b[0m\u001b[0;34m(\u001b[0m\u001b[0;34m)\u001b[0m\u001b[0;34m\u001b[0m\u001b[0;34m\u001b[0m\u001b[0m\n\u001b[0;32m---> 13\u001b[0;31m \u001b[0misim\u001b[0m \u001b[0;34m=\u001b[0m\u001b[0minput\u001b[0m\u001b[0;34m(\u001b[0m\u001b[0;34m\"isim:\"\u001b[0m\u001b[0;34m)\u001b[0m\u001b[0;34m\u001b[0m\u001b[0;34m\u001b[0m\u001b[0m\n\u001b[0m\u001b[1;32m     14\u001b[0m \u001b[0mkimlik\u001b[0m \u001b[0;34m=\u001b[0m \u001b[0mint\u001b[0m\u001b[0;34m(\u001b[0m\u001b[0minput\u001b[0m\u001b[0;34m(\u001b[0m\u001b[0;34m\"kimlik:\"\u001b[0m\u001b[0;34m)\u001b[0m\u001b[0;34m)\u001b[0m\u001b[0;34m\u001b[0m\u001b[0;34m\u001b[0m\u001b[0m\n\u001b[1;32m     15\u001b[0m \u001b[0mkredi_karti\u001b[0m \u001b[0;34m=\u001b[0m \u001b[0mint\u001b[0m\u001b[0;34m(\u001b[0m\u001b[0minput\u001b[0m\u001b[0;34m(\u001b[0m\u001b[0;34m\"kredi_karti:\"\u001b[0m\u001b[0;34m)\u001b[0m\u001b[0;34m)\u001b[0m\u001b[0;34m\u001b[0m\u001b[0;34m\u001b[0m\u001b[0m\n",
            "\u001b[0;32m/usr/local/lib/python3.9/dist-packages/ipykernel/kernelbase.py\u001b[0m in \u001b[0;36mraw_input\u001b[0;34m(self, prompt)\u001b[0m\n\u001b[1;32m    858\u001b[0m                 \u001b[0;34m\"raw_input was called, but this frontend does not support input requests.\"\u001b[0m\u001b[0;34m\u001b[0m\u001b[0;34m\u001b[0m\u001b[0m\n\u001b[1;32m    859\u001b[0m             )\n\u001b[0;32m--> 860\u001b[0;31m         return self._input_request(str(prompt),\n\u001b[0m\u001b[1;32m    861\u001b[0m             \u001b[0mself\u001b[0m\u001b[0;34m.\u001b[0m\u001b[0m_parent_ident\u001b[0m\u001b[0;34m,\u001b[0m\u001b[0;34m\u001b[0m\u001b[0;34m\u001b[0m\u001b[0m\n\u001b[1;32m    862\u001b[0m             \u001b[0mself\u001b[0m\u001b[0;34m.\u001b[0m\u001b[0m_parent_header\u001b[0m\u001b[0;34m,\u001b[0m\u001b[0;34m\u001b[0m\u001b[0;34m\u001b[0m\u001b[0m\n",
            "\u001b[0;32m/usr/local/lib/python3.9/dist-packages/ipykernel/kernelbase.py\u001b[0m in \u001b[0;36m_input_request\u001b[0;34m(self, prompt, ident, parent, password)\u001b[0m\n\u001b[1;32m    902\u001b[0m             \u001b[0;32mexcept\u001b[0m \u001b[0mKeyboardInterrupt\u001b[0m\u001b[0;34m:\u001b[0m\u001b[0;34m\u001b[0m\u001b[0;34m\u001b[0m\u001b[0m\n\u001b[1;32m    903\u001b[0m                 \u001b[0;31m# re-raise KeyboardInterrupt, to truncate traceback\u001b[0m\u001b[0;34m\u001b[0m\u001b[0;34m\u001b[0m\u001b[0m\n\u001b[0;32m--> 904\u001b[0;31m                 \u001b[0;32mraise\u001b[0m \u001b[0mKeyboardInterrupt\u001b[0m\u001b[0;34m(\u001b[0m\u001b[0;34m\"Interrupted by user\"\u001b[0m\u001b[0;34m)\u001b[0m \u001b[0;32mfrom\u001b[0m \u001b[0;32mNone\u001b[0m\u001b[0;34m\u001b[0m\u001b[0;34m\u001b[0m\u001b[0m\n\u001b[0m\u001b[1;32m    905\u001b[0m             \u001b[0;32mexcept\u001b[0m \u001b[0mException\u001b[0m \u001b[0;32mas\u001b[0m \u001b[0me\u001b[0m\u001b[0;34m:\u001b[0m\u001b[0;34m\u001b[0m\u001b[0;34m\u001b[0m\u001b[0m\n\u001b[1;32m    906\u001b[0m                 \u001b[0mself\u001b[0m\u001b[0;34m.\u001b[0m\u001b[0mlog\u001b[0m\u001b[0;34m.\u001b[0m\u001b[0mwarning\u001b[0m\u001b[0;34m(\u001b[0m\u001b[0;34m\"Invalid Message:\"\u001b[0m\u001b[0;34m,\u001b[0m \u001b[0mexc_info\u001b[0m\u001b[0;34m=\u001b[0m\u001b[0;32mTrue\u001b[0m\u001b[0;34m)\u001b[0m\u001b[0;34m\u001b[0m\u001b[0;34m\u001b[0m\u001b[0m\n",
            "\u001b[0;31mKeyboardInterrupt\u001b[0m: Interrupted by user"
          ]
        }
      ]
    },
    {
      "cell_type": "code",
      "source": [
        "\n",
        "\n",
        "\n",
        "    \n",
        "  "
      ],
      "metadata": {
        "id": "8lI2YPUuoUUC"
      },
      "execution_count": null,
      "outputs": []
    }
  ]
}