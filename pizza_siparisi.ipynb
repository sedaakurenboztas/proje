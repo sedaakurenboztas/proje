{
  "nbformat": 4,
  "nbformat_minor": 0,
  "metadata": {
    "colab": {
      "provenance": [],
      "authorship_tag": "ABX9TyN5HaITE4rlWJhAAA02vym/",
      "include_colab_link": true
    },
    "kernelspec": {
      "name": "python3",
      "display_name": "Python 3"
    },
    "language_info": {
      "name": "python"
    }
  },
  "cells": [
    {
      "cell_type": "markdown",
      "metadata": {
        "id": "view-in-github",
        "colab_type": "text"
      },
      "source": [
        "<a href=\"https://colab.research.google.com/github/sedaakurenboztas/projelerim-My-Projects/blob/main/pizza_siparisi.ipynb\" target=\"_parent\"><img src=\"https://colab.research.google.com/assets/colab-badge.svg\" alt=\"Open In Colab\"/></a>"
      ]
    },
    {
      "cell_type": "code",
      "execution_count": null,
      "metadata": {
        "id": "FV_Bog08Q-4c"
      },
      "outputs": [],
      "source": [
        "# kütüphane ekl\n",
        "import csv\n",
        "import datetime\n",
        "import sqlite3 "
      ]
    },
    {
      "cell_type": "code",
      "source": [
        "def acilis ( ):\n",
        "  print(\"Pizza Heraya Hoşgeldiniz \")"
      ],
      "metadata": {
        "id": "JRQP8yToRJ17"
      },
      "execution_count": null,
      "outputs": []
    },
    {
      "cell_type": "code",
      "source": [
        "# menu için dosya açma,ve class tanımlama  Bazı kısımlarda hata alıyorum . Hatamının çözümünü halledemedim phthon hakkında pek fazla bilgim yok elimden \n",
        "#  geldiği kadar halletmeye çalıştım\n",
        "\n",
        "def display_menu():\n",
        "  with open('Menu.txt', 'r') as f:\n",
        "       print(f.read())\n",
        "      \n",
        "def main ():\n",
        "  class pizza: # sınıf tanımlaması \n",
        "     def __init__(self):\n",
        "       self.adi=\"pizzastar\"              \n",
        "       self.fiyat =0.0\n",
        "     def pizza_adi(self):\n",
        "       return self.adi\n",
        "     def pizza_fiyatı(self):\n",
        "       return self.adi\n",
        "  class Klasik_pizza(pizza):\n",
        "     def __init__(self):\n",
        "       self.adi=\"Klasik_pizza\"\n",
        "       self.fiyat=50.0\n",
        "  class Margarita_pizza(pizza):\n",
        "    def __init__(self) :\n",
        "      self.adi=\"Margarita_pizza\"\n",
        "      self.fiyat=45.50\n",
        "  class Turk_pizza(pizza):\n",
        "    def __init__(self):\n",
        "      self.adi=\"Turk_pizza\" \n",
        "      self.fiyat=37.80\n",
        "  class Sade_pizza(pizza) :\n",
        "    def __init__(self):\n",
        "      self.adi=\"Sade_pizza\"\n",
        "      self.fiyat= 78.0\n",
        "      #pizzaya mazeme eklemek için dekotatör sınıf ekleme \n",
        "  class Decorator(pizza):\n",
        "      def __init__(self,componet):\n",
        "          self.componet= componet\n",
        "      def get_cost(self):\n",
        "        return self.componet.get_cost()+pizza.get_cost()\n",
        "      def get_description(self):\n",
        "        return self.componet.get_description()+' ' +pizza.get_description(self) \n",
        "  class zeytin (Decorator):\n",
        "    def __init__(self,componet):\n",
        "      self.componet=componet\n",
        "      self.adi=\"zeytin\"\n",
        "      self.fiyat=3.0\n",
        "  class Mantarlar(Decorator):\n",
        "    def __init(self,componet):\n",
        "      self.componet=componet\n",
        "      self.adi=\"Mantarlar\"\n",
        "      self.fiyat=4.5 \n",
        "  class Keci_peyniri(Decorator):\n",
        "    def __init(self,componet):\n",
        "      self.componet=componet\n",
        "      self.adi=\"Keçi_peyniri\"\n",
        "      self.fiyat=8.5\n",
        "  class Et(Decorator) :\n",
        "    def __init__(self,componet):\n",
        "      self.componet=componet\n",
        "      self.adi=\"Et\"\n",
        "      self.fiyat=12.5\n",
        "  class Sogan(Decorator) :\n",
        "    def __init__(self,componet):\n",
        "      self.componet=componet\n",
        "      self.adi=\"Sogan\"\n",
        "      self.fiyat=12.5\n",
        "  display_menu()\n",
        "toplamucret=0\n",
        "while True: \n",
        "    pizza_secimi=input(\"Lütfen istediğiniz pizzanın numarasını seçiniz:\")\n",
        "    adet=int(input(\"Kaç adet isitiyorsunuz :)\"))\n",
        "     \n",
        "    if pizza_secimi == \"1\" : # fiyatlnadırma \n",
        "      toplamucret += adet* 25\n",
        "    elif pizza_secimi == \"2\":\n",
        "      toplamucret += adet*30\n",
        "    elif pizza_secimi == \"3\":\n",
        "      toplamucret += adet* 23\n",
        "    elif pizza_secimi == \"4\":\n",
        "      toplamucret += adet* 50\n",
        "    sor=input(\"Pizaalar bölümünden başka bir şey ister misiniz ?(Evet/Hayır) :\")\n",
        "    if sor == \" Hayır\":\n",
        "      print(\":(\")\n",
        "    sos_secimi=input(\"Lütfen istediğiniz sosun/sosların numarasını seçiniz:\")  \n",
        "    adet = int(input(\"Kaç adet istiyorsunuz ?:\"))\n",
        "    if sos_secimi  == \"1.1\"  :\n",
        "      toplamucret += adet* 7\n",
        "    elif sos_secimi == \"1.2\":\n",
        "      toplamucret += adet* 5\n",
        "    elif sos_secimi == \"1.3\": \n",
        "     toplamucret += adet* 9\n",
        "    elif sos_secimi == \"1.4\" :\n",
        "      toplamucret+= adet*4\n",
        "    elif sos_secimi == \"1.5\":\n",
        "      toplamucret += adet* 6\n",
        "    elif sos_secimi== \"1.6\": \n",
        "      toplamucret += adet* 7 \n",
        "    sor=input(\"Soslar bölümünden başka bir şey ister misiniz ? (evet/hayır)\")\n",
        "    if sor == \"Hayır\":\n",
        "      print(\"toplam ücret: \",toplamucret,\"₺\")\n",
        "      print(\"Bizi seçtiğiniz için teşşekür ederiz. Yeniden bekleriz . Güle güle\")\n",
        "    break   \n",
        "toplamucret=sos_secimi.get_cost()\n",
        "print(toplamucret)\n",
        "                            "
      ],
      "metadata": {
        "id": "R39n46n_RXHg"
      },
      "execution_count": null,
      "outputs": []
    },
    {
      "cell_type": "code",
      "source": [
        "# veri tabanı denemesi \n",
        "con = sqlite3.connect(\"order_database.csv\")\n",
        "cursor = con.cursor() \n",
        "\n",
        "def tablo_oluştur():\n",
        "    cursor.execute(\"CREATE TABLE IF NOT EXISTS musteri (isim TEXT, kimlik INT, kredi_karti INT , siparis_aciklamasi TEXT)\") \n",
        "    con.commit()\n",
        "tablo_oluştur()\n",
        "con.close\n",
        "def deger_ekle(isim,kimlik,kredi_karti,siparis_aciklamasi):\n",
        "    cursor.execute(\"INSERT INTO musteri VALUES(?,?,?,?)\",(isim,kimlik,kredi_karti,siparis_aciklamasi))\n",
        "    con.commit()\n",
        "isim =input(\"isim:\")\n",
        "kimlik = int(input(\"kimlik:\"))\n",
        "kredi_karti = int(input(\"kredi_karti:\"))\n",
        "siparis_aciklamasi= input(\"siparis_aciklamasi:\")\n",
        "\n",
        "\n",
        "deger_ekle (isim,kimlik,kredi_karti,siparis_aciklamasi)\n",
        "\n",
        "con.close()\n",
        "\n",
        "\n",
        "                             \n",
        "\n",
        "\n",
        "\n",
        "\n",
        "\n",
        "\n",
        "    \n",
        "  "
      ],
      "metadata": {
        "id": "pBsvgKaHoa51"
      },
      "execution_count": null,
      "outputs": []
    },
    {
      "cell_type": "code",
      "source": [
        "\n",
        "\n",
        "\n",
        "    \n",
        "  "
      ],
      "metadata": {
        "id": "8lI2YPUuoUUC"
      },
      "execution_count": null,
      "outputs": []
    }
  ]
}